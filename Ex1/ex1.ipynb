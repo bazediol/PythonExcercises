{
 "cells": [
  {
   "cell_type": "code",
   "execution_count": 5,
   "metadata": {},
   "outputs": [
    {
     "name": "stdout",
     "output_type": "stream",
     "text": [
      "Enter IP address:192.168.0.1\n",
      "Enter subnet mask in decimal format /:24\n",
      "  192      168       0        1     \n",
      "\n",
      "11000000 10101000 00000000 00000001  \n",
      " \n",
      "network address is: 192.168.0.0\n",
      "broadcast address is: 192.168.0.255\n"
     ]
    }
   ],
   "source": [
    "import re\n",
    "from netaddr import *\n",
    "IP_pattern = re.compile ('^(([0-9]|[1-9][0-9]|1[0-9]{2}|2[0-4][0-9]|25[0-5])\\.){3}([0-9]|[1-9][0-9]|1[0-9]{2}|2[0-4][0-9]|25[0-5])$')\n",
    "IP = 0\n",
    "mask = 0\n",
    "while True:\n",
    "    IP = input (\"Enter IP address:\")\n",
    "    check = IP_pattern.search(IP)\n",
    "    if check:      \n",
    "        break\n",
    "    else:\n",
    "        print (\"Invalid IP address format\")\n",
    "while True:\n",
    "    mask = input (\"Enter subnet mask in decimal format /:\")\n",
    "    if (int(mask) < 8 or int(mask) >32):\n",
    "        print (\"Subnet mask is invalid\")\n",
    "    else:\n",
    "        break\n",
    "ip = IPNetwork (IP + '/'+ mask)\n",
    "IP_split = IP.split ('.')\n",
    "#print (IP_split, end = \" \")\n",
    "for number in IP_split:\n",
    "    print ('{:^8} '.format(number), end =\"\")\n",
    "#    print (number, end = \"     \")\n",
    "print(\"\\n\")\n",
    "for number in IP_split:\n",
    "    print (format(int(number), '08b') , end =\" \")\n",
    "print(\" \")\n",
    "print (\" \") \n",
    "ip = IPNetwork (IP + '/'+ mask)\n",
    "print (\"network address is: {}\".format(ip.network))\n",
    "print (\"broadcast address is: {}\".format(ip.broadcast))"
   ]
  },
  {
   "cell_type": "markdown",
   "metadata": {},
   "source": [
    "\n",
    "\n"
   ]
  },
  {
   "cell_type": "markdown",
   "metadata": {
    "collapsed": true
   },
   "source": [
    "# "
   ]
  }
 ],
 "metadata": {
  "kernelspec": {
   "display_name": "Python 3",
   "language": "python",
   "name": "python3"
  },
  "language_info": {
   "codemirror_mode": {
    "name": "ipython",
    "version": 3
   },
   "file_extension": ".py",
   "mimetype": "text/x-python",
   "name": "python",
   "nbconvert_exporter": "python",
   "pygments_lexer": "ipython3",
   "version": "3.6.3"
  }
 },
 "nbformat": 4,
 "nbformat_minor": 2
}
