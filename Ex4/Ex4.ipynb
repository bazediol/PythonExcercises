{
 "cells": [
  {
   "cell_type": "code",
   "execution_count": 15,
   "metadata": {},
   "outputs": [
    {
     "name": "stdout",
     "output_type": "stream",
     "text": [
      "Enter interface mode (access/trunk): trunk\n",
      "Enter interface type and number: fa0/1\n",
      "Enter allowed VLANs: 5,6,100,d ,6\n",
      "Invalid input, please recheck.\n",
      "Enter allowed VLANs: 1,1,2,6,7,8\n",
      "\n",
      "Interface fa0/1\n",
      "switchport mode access\n",
      "switchport access vlan 1,1,2,6,7,8\n",
      "switchport nonegotiate\n",
      "spanning-tree portfast\n",
      "spanning-tree bpduguard enable\n"
     ]
    }
   ],
   "source": [
    "import re\n",
    "mode_pattern = re.compile ('^(access|trunk)$')\n",
    "interface_pattern = re.compile ('.+')\n",
    "allvlan_pattern = re.compile ('^(\\s*\\d*,*)*\\s*\\d*\\s*$')\n",
    "svlan_pattern = re.compile ('^\\d+$')\n",
    "access_template = ['switchport mode access',\n",
    "\n",
    "'switchport access vlan {}',\n",
    "\n",
    "'switchport nonegotiate',\n",
    "\n",
    "'spanning-tree portfast',\n",
    "\n",
    "'spanning-tree bpduguard enable']\n",
    "\n",
    "trunk_template = ['switchport trunk encapsulation dot1q',\n",
    "\n",
    "'switchport mode trunk',\n",
    "\n",
    "'switchport trunk allowed vlan {}']\n",
    "def inputCheck (text, pattern):\n",
    "    while True:\n",
    "        data =  input (text)\n",
    "        check = pattern.search (data)\n",
    "        if check:\n",
    "            return data\n",
    "            break\n",
    "        else:\n",
    "            print ('Invalid input, please recheck.')\n",
    "        \n",
    "def output (template, interface, vlan):\n",
    "    print ('\\nInterface {}\\r'.format(interface))\n",
    "    for line in template:\n",
    "        if (line == 'switchport access vlan {}' or line == 'switchport trunk allowed vlan {}'):\n",
    "            print (line.format(vlan))\n",
    "        else:\n",
    "            print (line)\n",
    "            \n",
    "mode = inputCheck ('Enter interface mode (access/trunk): ', mode_pattern)\n",
    "if (mode == 'access'):\n",
    "    interface = inputCheck ('Enter interface type and number: ', interface_pattern)\n",
    "    vlan = inputCheck ('Enter VLAN number: ', svlan_pattern)\n",
    "    output (access_template, interface, vlan)\n",
    "elif (mode == 'trunk'):\n",
    "    interface = inputCheck ('Enter interface type and number: ', interface_pattern)\n",
    "    vlan = inputCheck ('Enter allowed VLANs: ', allvlan_pattern)\n",
    "    output (access_template, interface, vlan)\n"
   ]
  },
  {
   "cell_type": "code",
   "execution_count": null,
   "metadata": {
    "collapsed": true
   },
   "outputs": [],
   "source": []
  }
 ],
 "metadata": {
  "kernelspec": {
   "display_name": "Python 3",
   "language": "python",
   "name": "python3"
  },
  "language_info": {
   "codemirror_mode": {
    "name": "ipython",
    "version": 3
   },
   "file_extension": ".py",
   "mimetype": "text/x-python",
   "name": "python",
   "nbconvert_exporter": "python",
   "pygments_lexer": "ipython3",
   "version": "3.6.3"
  }
 },
 "nbformat": 4,
 "nbformat_minor": 2
}
