{
 "cells": [
  {
   "cell_type": "code",
   "execution_count": 5,
   "metadata": {
    "scrolled": true
   },
   "outputs": [
    {
     "name": "stdout",
     "output_type": "stream",
     "text": [
      "Welcome, file is being opened\n",
      "\n",
      "File commands.txt is opened now\n",
      "\n",
      "File commands.txt is closed now\n",
      "List_1 = [5, 8, 11, 111]\n",
      "List_2 = [3, 23, 25, 44, 75, 88, 100, 112]\n"
     ]
    }
   ],
   "source": [
    "import re\n",
    "re_pattern = re.compile('switchport trunk allowed vlan .*')\n",
    "print (\"Welcome, file is being opened\")\n",
    "file = open('commands.txt', 'r')\n",
    "if (file.closed == False):\n",
    "    print('\\nFile commands.txt is opened now')\n",
    "else:\n",
    "    print('\\nFile wasn\\'t opened :(')\n",
    "file_content = file.read()\n",
    "file.close()\n",
    "if (file.closed == True):\n",
    "    print('\\nFile commands.txt is closed now')\n",
    "else:\n",
    "    print ('\\nUnable to close the file')\n",
    "valid_commands = []\n",
    "valid_commands = re.findall(re_pattern,file_content)\n",
    "vlan_list = []\n",
    "for command in valid_commands:\n",
    "    vlans = command.split(' ')\n",
    "    vlan_list.append(vlans[4].split(','))\n",
    "List = []\n",
    "for lists in vlan_list:\n",
    "    for vlan in lists:\n",
    "        List.append(int(vlan))\n",
    "List.sort()\n",
    "List_1 = []\n",
    "List_2 = []\n",
    "for vlan in List:\n",
    "    if (List.count(vlan) >= len(vlan_list)):\n",
    "        if (List_1.count(vlan) == 0):\n",
    "            List_1.append(vlan)\n",
    "    if (List.count(vlan) == 1):\n",
    "        List_2.append(vlan)\n",
    "print ('List_1 =', List_1)\n",
    "print ('List_2 =', List_2)"
   ]
  },
  {
   "cell_type": "code",
   "execution_count": null,
   "metadata": {
    "collapsed": true
   },
   "outputs": [],
   "source": []
  }
 ],
 "metadata": {
  "kernelspec": {
   "display_name": "Python 3",
   "language": "python",
   "name": "python3"
  },
  "language_info": {
   "codemirror_mode": {
    "name": "ipython",
    "version": 3
   },
   "file_extension": ".py",
   "mimetype": "text/x-python",
   "name": "python",
   "nbconvert_exporter": "python",
   "pygments_lexer": "ipython3",
   "version": "3.6.3"
  }
 },
 "nbformat": 4,
 "nbformat_minor": 2
}
